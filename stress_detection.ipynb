{
 "cells": [
  {
   "cell_type": "markdown",
   "id": "b7c29179",
   "metadata": {},
   "source": [
    "# Stress Detection Models \n",
    "\n",
    "In this notebook we are going to be testing three approaches for stress detection using biosignals like Heart Rate and/or Heart Rate Variability for each one of the following datasets:\n",
    "\n",
    "1. [Nurse Stress Prediction Wearable Sensors](https://www.kaggle.com/datasets/priyankraval/nurse-stress-prediction-wearable-sensors)\n",
    "2. [Heart Rate Prediction to Monitor Stress Level](https://www.kaggle.com/datasets/vinayakshanawad/heart-rate-prediction-to-monitor-stress-level)\n",
    "3. [Stress-Predict-Dataset](https://github.com/italha-d/Stress-Predict-Dataset)\n",
    "4. [SWELL dataset](https://www.kaggle.com/datasets/qiriro/swell-heart-rate-variability-hrv)\n",
    "\n",
    "\n"
   ]
  },
  {
   "cell_type": "code",
   "execution_count": 1,
   "id": "df40da3b",
   "metadata": {},
   "outputs": [],
   "source": [
    "# Import libraries\n",
    "import os\n",
    "import pandas as pd\n",
    "import numpy as np\n",
    "import seaborn as sns\n",
    "import matplotlib.pyplot as plt\n",
    "from sklearn.model_selection import train_test_split\n",
    "from imblearn.over_sampling import RandomOverSampler\n",
    "from tensorflow.keras.models import Sequential\n",
    "from tensorflow.keras.layers import Dense\n",
    "from tensorflow.keras.callbacks import EarlyStopping\n",
    "from sklearn.preprocessing import RobustScaler, StandardScaler\n",
    "from sklearn.metrics import accuracy_score, classification_report\n",
    "from sklearn.cluster import KMeans\n",
    "from sklearn.preprocessing import LabelEncoder\n",
    "from sklearn.ensemble import RandomForestClassifier\n",
    "\n",
    "import warnings\n",
    "warnings.filterwarnings('always')\n",
    "\n",
    "# Import Data Paths\n",
    "data_path = os.getcwd() + '/data' "
   ]
  },
  {
   "cell_type": "markdown",
   "id": "a8bda21d",
   "metadata": {},
   "source": [
    "---"
   ]
  },
  {
   "cell_type": "markdown",
   "id": "044d7f91",
   "metadata": {},
   "source": [
    "# Nurse Stress Prediction Wearable Sensors"
   ]
  },
  {
   "cell_type": "code",
   "execution_count": 2,
   "id": "21805c0d",
   "metadata": {},
   "outputs": [
    {
     "name": "stdout",
     "output_type": "stream",
     "text": [
      "<class 'pandas.core.frame.DataFrame'>\n",
      "Index: 332295 entries, 0 to 332294\n",
      "Data columns (total 4 columns):\n",
      " #   Column    Non-Null Count   Dtype  \n",
      "---  ------    --------------   -----  \n",
      " 0   HR        332295 non-null  float64\n",
      " 1   HRV       332295 non-null  float64\n",
      " 2   datetime  332295 non-null  object \n",
      " 3   label     332295 non-null  int64  \n",
      "dtypes: float64(2), int64(1), object(1)\n",
      "memory usage: 12.7+ MB\n"
     ]
    }
   ],
   "source": [
    "# Load the dataset\n",
    "data = pd.read_csv(data_path + '/Healthcare/hrv.csv')\n",
    "data.dropna(inplace=True)\n",
    "data.info()"
   ]
  },
  {
   "cell_type": "markdown",
   "id": "5aed762a",
   "metadata": {},
   "source": [
    "## Threshold-Based Rule Engine Approach\n",
    "\n",
    "+ Pros:\n",
    "    - Easy to understand and deploy\n",
    "    - No training needed\n",
    "\n",
    "- Cons:\n",
    "    - May be inaccurate\n",
    "    - Doesn’t adapt to individual differences"
   ]
  },
  {
   "cell_type": "code",
   "execution_count": 3,
   "id": "4b68f19a",
   "metadata": {},
   "outputs": [],
   "source": [
    "def classify_stress_threshold(hrv: float, hr: float) -> str:\n",
    "    if hrv < 40 and hr > 70:\n",
    "        return 'high'\n",
    "    elif hrv < 50 and hr > 60:\n",
    "        return 'medium'\n",
    "    else:\n",
    "        return 'low'"
   ]
  },
  {
   "cell_type": "code",
   "execution_count": 4,
   "id": "5890b3d5",
   "metadata": {},
   "outputs": [
    {
     "name": "stdout",
     "output_type": "stream",
     "text": [
      "Threshold-Based Rule Accuracy: 0.667933613205134\n",
      "The classification report matrix of the threshold-based rule is:\n",
      "               precision    recall  f1-score   support\n",
      "\n",
      "        high       0.73      0.89      0.81    246086\n",
      "         low       0.03      0.00      0.01     61359\n",
      "      medium       0.08      0.07      0.08     24850\n",
      "\n",
      "    accuracy                           0.67    332295\n",
      "   macro avg       0.28      0.32      0.30    332295\n",
      "weighted avg       0.55      0.67      0.60    332295\n",
      "\n"
     ]
    }
   ],
   "source": [
    "# Get the predictions of the rule-based model and encode the labels to get the accuracy of this approach\n",
    "data['stress_pred_rule'] = data.apply(lambda row: classify_stress_threshold(row['HRV'], row['HR']), axis=1)\n",
    "labels = data['label'].apply(lambda x: 'high' if x == 2 else ('medium' if x == 1 else 'low'))\n",
    "labels_predictions = data['stress_pred_rule']\n",
    "\n",
    "print('Threshold-Based Rule Accuracy:', accuracy_score(labels, labels_predictions))\n",
    "print('The classification report matrix of the threshold-based rule is:\\n', classification_report(labels, labels_predictions, zero_division=0))"
   ]
  },
  {
   "cell_type": "markdown",
   "id": "3c4c5dca",
   "metadata": {},
   "source": [
    "## Unsupervised Learning Approach (Clustering)\n",
    "\n",
    "- Pros:\n",
    "    - No labels needed\n",
    "    - Can reveal natural structure\n",
    "\n",
    "- Cons:\n",
    "    - Clusters may not match stress labels\n",
    "    - Hard to evaluate accuracy directly"
   ]
  },
  {
   "cell_type": "code",
   "execution_count": 5,
   "id": "208aa69f",
   "metadata": {},
   "outputs": [
    {
     "name": "stdout",
     "output_type": "stream",
     "text": [
      "Kmeans Accuracy: 0.41944055733610197\n",
      "The classification report matrix of the Kmeans model is:\n",
      "               precision    recall  f1-score   support\n",
      "\n",
      "        high       0.76      0.43      0.55    246086\n",
      "         low       0.20      0.50      0.29     61359\n",
      "      medium       0.09      0.15      0.11     24850\n",
      "\n",
      "    accuracy                           0.42    332295\n",
      "   macro avg       0.35      0.36      0.32    332295\n",
      "weighted avg       0.61      0.42      0.47    332295\n",
      "\n"
     ]
    },
    {
     "data": {
      "image/png": "[encoded data removed]",
      "text/plain": [
       "<Figure size 1000x600 with 2 Axes>"
      ]
     },
     "metadata": {},
     "output_type": "display_data"
    }
   ],
   "source": [
    "# Create Kmeans model with 3 clusters for the 3 classes [low, medium, high]\n",
    "kmeans = KMeans(n_clusters=3, random_state=42)\n",
    "kmeans.fit(data[['HRV', 'HR']])\n",
    "data['stress_pred_kmeans'] = kmeans.predict(data[['HRV', 'HR']])\n",
    "\n",
    "# Map the cluster labels to the stress levels\n",
    "cluster_mapping = {0: 'low', 1: 'medium', 2: 'high'}\n",
    "data['stress_pred_kmeans'] = data['stress_pred_kmeans'].map(cluster_mapping)\n",
    "\n",
    "# Get the predictions of the Kmeans model and encode the labels to get the accuracy of this approach\n",
    "labels_predictions = data['stress_pred_kmeans']\n",
    "print('Kmeans Accuracy:', accuracy_score(labels, labels_predictions))\n",
    "print('The classification report matrix of the Kmeans model is:\\n', classification_report(labels, labels_predictions, zero_division=0))\n",
    "\n",
    "\n",
    "# Plot the clusters\n",
    "plt.figure(figsize=(10, 6))\n",
    "plt.title('Kmeans Clusters')\n",
    "plt.scatter(data['HR'], data['HRV'], c=data['stress_pred_kmeans'].map({'low': 0, 'medium': 1, 'high': 2}), s=5)\n",
    "plt.xlabel('HR')\n",
    "plt.ylabel('HRV')\n",
    "plt.colorbar(ticks=[0, 1, 2], label='Stress Level')\n",
    "plt.show()"
   ]
  },
  {
   "cell_type": "markdown",
   "id": "e072c981",
   "metadata": {},
   "source": [
    "## Machine Learning Approach (Random Forest)\n",
    "\n",
    "- Pros:\n",
    "    - Learns patterns from data\n",
    "    - Easy to extend with more features\n",
    "\n",
    "- Cons:\n",
    "    - Requires labeled data\n",
    "    - Risk of overfitting on small or biased data"
   ]
  },
  {
   "cell_type": "code",
   "execution_count": 6,
   "id": "deb3ec17",
   "metadata": {},
   "outputs": [
    {
     "name": "stdout",
     "output_type": "stream",
     "text": [
      "The classification report matrix of the train data for the Random Forest Classifier is:\n",
      "               precision    recall  f1-score   support\n",
      "\n",
      "        high       0.95      0.98      0.96    246086\n",
      "         low       0.93      0.85      0.88     61359\n",
      "      medium       0.93      0.83      0.88     24850\n",
      "\n",
      "    accuracy                           0.94    332295\n",
      "   macro avg       0.94      0.89      0.91    332295\n",
      "weighted avg       0.94      0.94      0.94    332295\n",
      "\n",
      "The classification report matrix of the test data for the Random Forest Classifier is:\n",
      "               precision    recall  f1-score   support\n",
      "\n",
      "           0       0.66      0.46      0.54     15340\n",
      "           1       0.64      0.38      0.48      6212\n",
      "           2       0.83      0.93      0.88     61522\n",
      "\n",
      "    accuracy                           0.80     83074\n",
      "   macro avg       0.71      0.59      0.63     83074\n",
      "weighted avg       0.79      0.80      0.79     83074\n",
      "\n"
     ]
    }
   ],
   "source": [
    "# Get the features and labels for the Random Forest Classifier\n",
    "X = data[['HR', 'HRV']]\n",
    "y = data['label']\n",
    "\n",
    "X_train, X_test, y_train, y_test = train_test_split(X, y, stratify=y, random_state=42)\n",
    "\n",
    "# Create the Random Forest Classifier model\n",
    "clf = RandomForestClassifier(n_estimators=100, random_state=42)\n",
    "clf.fit(X_train, y_train)\n",
    "\n",
    "# Get the predictions of the Random Forest Classifier\n",
    "data['stress_pred_rf'] = clf.predict(X)\n",
    "data['stress_pred_rf'] = data['stress_pred_rf'].map({0: 'low', 1: 'medium', 2: 'high'})\n",
    "labels_predictions = data['stress_pred_rf']\n",
    "\n",
    "# Get the predictions of the Random Forest Classifier and encode the labels to get the accuracy of this approach\n",
    "y_pred = clf.predict(X_test)    \n",
    "\n",
    "print('The classification report matrix of the train data for the Random Forest Classifier is:\\n', classification_report(labels, labels_predictions, zero_division=0))\n",
    "print('The classification report matrix of the test data for the Random Forest Classifier is:\\n', classification_report(y_test, y_pred))"
   ]
  },
  {
   "cell_type": "markdown",
   "id": "67166f94",
   "metadata": {},
   "source": [
    "## Deep Learning Approach"
   ]
  },
  {
   "cell_type": "code",
   "execution_count": 7,
   "id": "1d54219a",
   "metadata": {},
   "outputs": [],
   "source": [
    "# Feature Engineering and Scaling\n",
    "features = data.drop(columns=['label', 'datetime'],axis=1)\n",
    "labels = data['label']\n",
    "\n",
    "# Create the train/test split\n",
    "features_train, features_test, labels_train, labels_test= train_test_split(features, labels, test_size=0.2,random_state=34)"
   ]
  },
  {
   "cell_type": "code",
   "execution_count": 10,
   "id": "2fa85ac7",
   "metadata": {},
   "outputs": [
    {
     "name": "stderr",
     "output_type": "stream",
     "text": [
      "/Library/Frameworks/Python.framework/Versions/3.10/lib/python3.10/site-packages/keras/src/layers/core/dense.py:87: UserWarning: Do not pass an `input_shape`/`input_dim` argument to a layer. When using Sequential models, prefer using an `Input(shape)` object as the first layer in the model instead.\n",
      "  super().__init__(activity_regularizer=activity_regularizer, **kwargs)\n"
     ]
    },
    {
     "data": {
      "text/html": [
       "<pre style=\"white-space:pre;overflow-x:auto;line-height:normal;font-family:Menlo,'DejaVu Sans Mono',consolas,'Courier New',monospace\"><span style=\"font-weight: bold\">Model: \"sequential_1\"</span>\n",
       "</pre>\n"
      ],
      "text/plain": [
       "\u001b[1mModel: \"sequential_1\"\u001b[0m\n"
      ]
     },
     "metadata": {},
     "output_type": "display_data"
    },
    {
     "data": {
      "text/html": [
       "<pre style=\"white-space:pre;overflow-x:auto;line-height:normal;font-family:Menlo,'DejaVu Sans Mono',consolas,'Courier New',monospace\">┏━━━━━━━━━━━━━━━━━━━━━━━━━━━━━━━━━┳━━━━━━━━━━━━━━━━━━━━━━━━┳━━━━━━━━━━━━━━━┓\n",
       "┃<span style=\"font-weight: bold\"> Layer (type)                    </span>┃<span style=\"font-weight: bold\"> Output Shape           </span>┃<span style=\"font-weight: bold\">       Param # </span>┃\n",
       "┡━━━━━━━━━━━━━━━━━━━━━━━━━━━━━━━━━╇━━━━━━━━━━━━━━━━━━━━━━━━╇━━━━━━━━━━━━━━━┩\n",
       "│ dense_4 (<span style=\"color: #0087ff; text-decoration-color: #0087ff\">Dense</span>)                 │ (<span style=\"color: #00d7ff; text-decoration-color: #00d7ff\">None</span>, <span style=\"color: #00af00; text-decoration-color: #00af00\">2</span>)              │            <span style=\"color: #00af00; text-decoration-color: #00af00\">12</span> │\n",
       "├─────────────────────────────────┼────────────────────────┼───────────────┤\n",
       "│ dense_5 (<span style=\"color: #0087ff; text-decoration-color: #0087ff\">Dense</span>)                 │ (<span style=\"color: #00d7ff; text-decoration-color: #00d7ff\">None</span>, <span style=\"color: #00af00; text-decoration-color: #00af00\">4</span>)              │            <span style=\"color: #00af00; text-decoration-color: #00af00\">12</span> │\n",
       "├─────────────────────────────────┼────────────────────────┼───────────────┤\n",
       "│ dense_6 (<span style=\"color: #0087ff; text-decoration-color: #0087ff\">Dense</span>)                 │ (<span style=\"color: #00d7ff; text-decoration-color: #00d7ff\">None</span>, <span style=\"color: #00af00; text-decoration-color: #00af00\">8</span>)              │            <span style=\"color: #00af00; text-decoration-color: #00af00\">40</span> │\n",
       "├─────────────────────────────────┼────────────────────────┼───────────────┤\n",
       "│ dense_7 (<span style=\"color: #0087ff; text-decoration-color: #0087ff\">Dense</span>)                 │ (<span style=\"color: #00d7ff; text-decoration-color: #00d7ff\">None</span>, <span style=\"color: #00af00; text-decoration-color: #00af00\">3</span>)              │            <span style=\"color: #00af00; text-decoration-color: #00af00\">27</span> │\n",
       "└─────────────────────────────────┴────────────────────────┴───────────────┘\n",
       "</pre>\n"
      ],
      "text/plain": [
       "┏━━━━━━━━━━━━━━━━━━━━━━━━━━━━━━━━━┳━━━━━━━━━━━━━━━━━━━━━━━━┳━━━━━━━━━━━━━━━┓\n",
       "┃\u001b[1m \u001b[0m\u001b[1mLayer (type)                   \u001b[0m\u001b[1m \u001b[0m┃\u001b[1m \u001b[0m\u001b[1mOutput Shape          \u001b[0m\u001b[1m \u001b[0m┃\u001b[1m \u001b[0m\u001b[1m      Param #\u001b[0m\u001b[1m \u001b[0m┃\n",
       "┡━━━━━━━━━━━━━━━━━━━━━━━━━━━━━━━━━╇━━━━━━━━━━━━━━━━━━━━━━━━╇━━━━━━━━━━━━━━━┩\n",
       "│ dense_4 (\u001b[38;5;33mDense\u001b[0m)                 │ (\u001b[38;5;45mNone\u001b[0m, \u001b[38;5;34m2\u001b[0m)              │            \u001b[38;5;34m12\u001b[0m │\n",
       "├─────────────────────────────────┼────────────────────────┼───────────────┤\n",
       "│ dense_5 (\u001b[38;5;33mDense\u001b[0m)                 │ (\u001b[38;5;45mNone\u001b[0m, \u001b[38;5;34m4\u001b[0m)              │            \u001b[38;5;34m12\u001b[0m │\n",
       "├─────────────────────────────────┼────────────────────────┼───────────────┤\n",
       "│ dense_6 (\u001b[38;5;33mDense\u001b[0m)                 │ (\u001b[38;5;45mNone\u001b[0m, \u001b[38;5;34m8\u001b[0m)              │            \u001b[38;5;34m40\u001b[0m │\n",
       "├─────────────────────────────────┼────────────────────────┼───────────────┤\n",
       "│ dense_7 (\u001b[38;5;33mDense\u001b[0m)                 │ (\u001b[38;5;45mNone\u001b[0m, \u001b[38;5;34m3\u001b[0m)              │            \u001b[38;5;34m27\u001b[0m │\n",
       "└─────────────────────────────────┴────────────────────────┴───────────────┘\n"
      ]
     },
     "metadata": {},
     "output_type": "display_data"
    },
    {
     "data": {
      "text/html": [
       "<pre style=\"white-space:pre;overflow-x:auto;line-height:normal;font-family:Menlo,'DejaVu Sans Mono',consolas,'Courier New',monospace\"><span style=\"font-weight: bold\"> Total params: </span><span style=\"color: #00af00; text-decoration-color: #00af00\">91</span> (364.00 B)\n",
       "</pre>\n"
      ],
      "text/plain": [
       "\u001b[1m Total params: \u001b[0m\u001b[38;5;34m91\u001b[0m (364.00 B)\n"
      ]
     },
     "metadata": {},
     "output_type": "display_data"
    },
    {
     "data": {
      "text/html": [
       "<pre style=\"white-space:pre;overflow-x:auto;line-height:normal;font-family:Menlo,'DejaVu Sans Mono',consolas,'Courier New',monospace\"><span style=\"font-weight: bold\"> Trainable params: </span><span style=\"color: #00af00; text-decoration-color: #00af00\">91</span> (364.00 B)\n",
       "</pre>\n"
      ],
      "text/plain": [
       "\u001b[1m Trainable params: \u001b[0m\u001b[38;5;34m91\u001b[0m (364.00 B)\n"
      ]
     },
     "metadata": {},
     "output_type": "display_data"
    },
    {
     "data": {
      "text/html": [
       "<pre style=\"white-space:pre;overflow-x:auto;line-height:normal;font-family:Menlo,'DejaVu Sans Mono',consolas,'Courier New',monospace\"><span style=\"font-weight: bold\"> Non-trainable params: </span><span style=\"color: #00af00; text-decoration-color: #00af00\">0</span> (0.00 B)\n",
       "</pre>\n"
      ],
      "text/plain": [
       "\u001b[1m Non-trainable params: \u001b[0m\u001b[38;5;34m0\u001b[0m (0.00 B)\n"
      ]
     },
     "metadata": {},
     "output_type": "display_data"
    }
   ],
   "source": [
    "# Create callback function for early stopping in case we have a decrease in accuracy\n",
    "callback = EarlyStopping(monitor='val_loss', min_delta=0.0001, patience=10, verbose=True, mode='auto', baseline=None, restore_best_weights=True)\n",
    "\n",
    "# Create the Deep Learning Model Architecture\n",
    "model = Sequential()\n",
    "model.add(Dense(2,activation='relu',input_shape=(features_train.shape[1],)))\n",
    "model.add(Dense(4,activation='relu'))\n",
    "model.add(Dense(8,activation='relu'))\n",
    "model.add(Dense(3,activation='softmax'))\n",
    "\n",
    "# Compilation of the model\n",
    "model.compile(loss='sparse_categorical_crossentropy', optimizer='adam', metrics=['accuracy'])\n",
    "\n",
    "model.summary()"
   ]
  },
  {
   "cell_type": "code",
   "execution_count": 12,
   "id": "b57f3705",
   "metadata": {},
   "outputs": [
    {
     "data": {
      "text/plain": [
       "184022    0\n",
       "47760     0\n",
       "57757     2\n",
       "275604    2\n",
       "114332    2\n",
       "         ..\n",
       "38435     0\n",
       "199765    2\n",
       "225014    2\n",
       "153449    0\n",
       "305642    2\n",
       "Name: label, Length: 265836, dtype: int64"
      ]
     },
     "execution_count": 12,
     "metadata": {},
     "output_type": "execute_result"
    }
   ],
   "source": [
    "labels_train\n",
    "# Train the model\n",
    "# history=model.fit(features_train, labels_train, validation_split=0.1, epochs=10, verbose=True, batch_size=1000, callbacks=callback)"
   ]
  },
  {
   "cell_type": "code",
   "execution_count": null,
   "id": "d5e16134",
   "metadata": {},
   "outputs": [],
   "source": [
    "#Traininng Visualization\n",
    "plt.plot(history.history['val_accuracy'],color='red',label='Validation')\n",
    "plt.plot(history.history['accuracy'],color='blue',label='Training')\n",
    "plt.xticks(np.arange(0, 10, 1))\n",
    "plt.yticks(np.arange(0.5, 1, 0.05))\n",
    "plt.xlabel('Epochs')    \n",
    "plt.ylabel('Accuracy')\n",
    "plt.title('Training and Validation Accuracy')\n",
    "plt.legend()\n",
    "plt.show()\n",
    "\n",
    "\n",
    "#Traininng Visualization\n",
    "plt.plot(history.history['val_loss'],color='red',label='Validation')\n",
    "plt.plot(history.history['loss'],color='blue',label='Training')\n",
    "plt.xticks(np.arange(0, 10, 1))\n",
    "plt.yticks(np.arange(0.5, 1, 0.05))\n",
    "plt.xlabel('Epochs')    \n",
    "plt.ylabel('Accuracy')\n",
    "plt.title('Training and Validation Loss')\n",
    "plt.legend()\n",
    "plt.show()"
   ]
  },
  {
   "cell_type": "code",
   "execution_count": null,
   "id": "b3e26f03",
   "metadata": {},
   "outputs": [],
   "source": [
    "#Performance on Testing Data\n",
    "# Evaluate the model on test data\n",
    "loss, accuracy = model.evaluate(features_test, labels_test)"
   ]
  },
  {
   "cell_type": "markdown",
   "id": "288b4db6",
   "metadata": {},
   "source": [
    "---"
   ]
  },
  {
   "cell_type": "markdown",
   "id": "b9b6e063",
   "metadata": {},
   "source": [
    "# Heart Rate Prediction to Monitor Stress Level"
   ]
  }
 ],
 "metadata": {
  "kernelspec": {
   "display_name": "Python 3",
   "language": "python",
   "name": "python3"
  },
  "language_info": {
   "codemirror_mode": {
    "name": "ipython",
    "version": 3
   },
   "file_extension": ".py",
   "mimetype": "text/x-python",
   "name": "python",
   "nbconvert_exporter": "python",
   "pygments_lexer": "ipython3",
   "version": "3.10.11"
  }
 },
 "nbformat": 4,
 "nbformat_minor": 5
}
